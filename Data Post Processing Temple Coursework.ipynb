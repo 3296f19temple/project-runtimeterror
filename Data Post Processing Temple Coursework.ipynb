{
 "cells": [
  {
   "cell_type": "markdown",
   "metadata": {},
   "source": [
    "# Data Processing"
   ]
  },
  {
   "cell_type": "code",
   "execution_count": 58,
   "metadata": {},
   "outputs": [],
   "source": [
    "import pandas as pd\n",
    "import numpy as np\n",
    "import sys\n",
    "import os\n",
    "import time\n",
    "import datetime\n",
    "import re"
   ]
  },
  {
   "cell_type": "markdown",
   "metadata": {},
   "source": [
    "### Removing Unnecessary words, symbols and spaces"
   ]
  },
  {
   "cell_type": "code",
   "execution_count": 63,
   "metadata": {},
   "outputs": [
    {
     "name": "stderr",
     "output_type": "stream",
     "text": [
      "IOPub data rate exceeded.\n",
      "The notebook server will temporarily stop sending output\n",
      "to the client in order to avoid crashing it.\n",
      "To change this limit, set the config variable\n",
      "`--NotebookApp.iopub_data_rate_limit`.\n",
      "\n",
      "Current values:\n",
      "NotebookApp.iopub_data_rate_limit=1000000.0 (bytes/sec)\n",
      "NotebookApp.rate_limit_window=3.0 (secs)\n",
      "\n"
     ]
    }
   ],
   "source": [
    "with open(\"Data.txt\", encoding=\"utf8\") as file:\n",
    "    lines = file.read()\n",
    "    line = re.sub(\"[^a-z^A-Z:+0-9]\",\" \", lines)\n",
    "    line1 = re.split(\"q+|X+|,+\", line)\n",
    "print(line1)\n",
    "#f = open(\"ParseScraped1.txt\",\"w\")#write mode \n",
    "rows = []\n",
    "line = []\n",
    "for i in line1:\n",
    "    #line = []\n",
    "    if not(i.isspace()):\n",
    "        element = i.strip()\n",
    "        if (element.find(\"h h e\")>=0):\n",
    "            #str = str+\"\\n\"\n",
    "            rows.append(line)\n",
    "            line = []\n",
    "        else:\n",
    "            if(element.find(\"View Course Materials\")<0):\n",
    "                line.append(element)\n",
    "            #str = str+element\n",
    "print(rows[0])\n",
    "f = open(\"ParseScraped.txt\",\"w+\")\n",
    "for examples in rows:\n",
    "    for i in examples:\n",
    "        f.write(i+\" \") \n",
    "    f.write(\"\\n\")\n",
    "f.close() "
   ]
  },
  {
   "cell_type": "code",
   "execution_count": null,
   "metadata": {},
   "outputs": [],
   "source": []
  }
 ],
 "metadata": {
  "kernelspec": {
   "display_name": "Python 3",
   "language": "python",
   "name": "python3"
  },
  "language_info": {
   "codemirror_mode": {
    "name": "ipython",
    "version": 3
   },
   "file_extension": ".py",
   "mimetype": "text/x-python",
   "name": "python",
   "nbconvert_exporter": "python",
   "pygments_lexer": "ipython3",
   "version": "3.7.1"
  }
 },
 "nbformat": 4,
 "nbformat_minor": 2
}
